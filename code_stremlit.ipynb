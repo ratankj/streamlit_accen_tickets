{
 "cells": [
  {
   "cell_type": "code",
   "execution_count": 1,
   "metadata": {},
   "outputs": [],
   "source": [
    "import pandas as pd\n",
    "import numpy as np"
   ]
  },
  {
   "cell_type": "code",
   "execution_count": 11,
   "metadata": {},
   "outputs": [],
   "source": [
    "ticket_df=pd.read_excel(r\"C:\\Users\\Ratan Kumar Jha\\Desktop\\accenture_ticket\\Accenture tickets.xlsx\")"
   ]
  },
  {
   "cell_type": "code",
   "execution_count": 12,
   "metadata": {},
   "outputs": [
    {
     "data": {
      "text/html": [
       "<div>\n",
       "<style scoped>\n",
       "    .dataframe tbody tr th:only-of-type {\n",
       "        vertical-align: middle;\n",
       "    }\n",
       "\n",
       "    .dataframe tbody tr th {\n",
       "        vertical-align: top;\n",
       "    }\n",
       "\n",
       "    .dataframe thead th {\n",
       "        text-align: right;\n",
       "    }\n",
       "</style>\n",
       "<table border=\"1\" class=\"dataframe\">\n",
       "  <thead>\n",
       "    <tr style=\"text-align: right;\">\n",
       "      <th></th>\n",
       "      <th>Consumer ID</th>\n",
       "      <th>Ticket No</th>\n",
       "      <th>Date / Time</th>\n",
       "      <th>Department</th>\n",
       "      <th>Assignee</th>\n",
       "      <th>Priority</th>\n",
       "      <th>Issue Type</th>\n",
       "      <th>Issue Sub Type</th>\n",
       "      <th>Source</th>\n",
       "      <th>Status</th>\n",
       "      <th>Due Date</th>\n",
       "      <th>Resolve Date</th>\n",
       "    </tr>\n",
       "  </thead>\n",
       "  <tbody>\n",
       "    <tr>\n",
       "      <th>0</th>\n",
       "      <td>400542027</td>\n",
       "      <td>166329</td>\n",
       "      <td>2021-02-13 09:49:14</td>\n",
       "      <td>MDMS</td>\n",
       "      <td>vijay bharoliya</td>\n",
       "      <td>Medium</td>\n",
       "      <td>Excess/less Consumption</td>\n",
       "      <td>Charge Calculation/Consumption</td>\n",
       "      <td>Phone</td>\n",
       "      <td>Closed</td>\n",
       "      <td>2021-02-16 09:49:14</td>\n",
       "      <td>2021-06-02 14:10:57</td>\n",
       "    </tr>\n",
       "    <tr>\n",
       "      <th>1</th>\n",
       "      <td>400534366</td>\n",
       "      <td>939634</td>\n",
       "      <td>2021-03-06 12:38:36</td>\n",
       "      <td>MDMS</td>\n",
       "      <td>vijay bharoliya</td>\n",
       "      <td>Medium</td>\n",
       "      <td>Excess/less Charge Deduction</td>\n",
       "      <td>Arrear Balance</td>\n",
       "      <td>Phone</td>\n",
       "      <td>Closed</td>\n",
       "      <td>2021-03-09 12:38:36</td>\n",
       "      <td>2021-06-02 14:11:07</td>\n",
       "    </tr>\n",
       "    <tr>\n",
       "      <th>2</th>\n",
       "      <td>1000000101</td>\n",
       "      <td>515799</td>\n",
       "      <td>2021-04-12 15:27:33</td>\n",
       "      <td>MDMS</td>\n",
       "      <td>vijay bharoliya</td>\n",
       "      <td>High</td>\n",
       "      <td>Notification Related</td>\n",
       "      <td>Notifications (Welcome Message)</td>\n",
       "      <td>Other</td>\n",
       "      <td>Closed</td>\n",
       "      <td>2021-04-13 15:27:33</td>\n",
       "      <td>2021-06-02 14:12:00</td>\n",
       "    </tr>\n",
       "    <tr>\n",
       "      <th>3</th>\n",
       "      <td>1000000107</td>\n",
       "      <td>387235</td>\n",
       "      <td>2021-04-19 14:18:39</td>\n",
       "      <td>MDMS</td>\n",
       "      <td>vijay bharoliya</td>\n",
       "      <td>Low</td>\n",
       "      <td>Any other issue - Smart Meter</td>\n",
       "      <td>Any other issue - Smart Meter</td>\n",
       "      <td>Other</td>\n",
       "      <td>Closed</td>\n",
       "      <td>2021-04-29 14:18:39</td>\n",
       "      <td>2021-06-02 14:08:18</td>\n",
       "    </tr>\n",
       "    <tr>\n",
       "      <th>4</th>\n",
       "      <td>1000000101</td>\n",
       "      <td>541307</td>\n",
       "      <td>2021-04-19 15:16:15</td>\n",
       "      <td>MDMS</td>\n",
       "      <td>vijay bharoliya</td>\n",
       "      <td>Low</td>\n",
       "      <td>Internal ID Creation</td>\n",
       "      <td>Internal ID Creation</td>\n",
       "      <td>Email</td>\n",
       "      <td>Closed</td>\n",
       "      <td>2021-04-29 15:16:15</td>\n",
       "      <td>2021-06-02 14:11:54</td>\n",
       "    </tr>\n",
       "  </tbody>\n",
       "</table>\n",
       "</div>"
      ],
      "text/plain": [
       "   Consumer ID  Ticket No         Date / Time Department         Assignee  \\\n",
       "0    400542027     166329 2021-02-13 09:49:14       MDMS  vijay bharoliya   \n",
       "1    400534366     939634 2021-03-06 12:38:36       MDMS  vijay bharoliya   \n",
       "2   1000000101     515799 2021-04-12 15:27:33       MDMS  vijay bharoliya   \n",
       "3   1000000107     387235 2021-04-19 14:18:39       MDMS  vijay bharoliya   \n",
       "4   1000000101     541307 2021-04-19 15:16:15       MDMS  vijay bharoliya   \n",
       "\n",
       "  Priority                     Issue Type                   Issue Sub Type  \\\n",
       "0   Medium        Excess/less Consumption   Charge Calculation/Consumption   \n",
       "1   Medium   Excess/less Charge Deduction                   Arrear Balance   \n",
       "2     High           Notification Related  Notifications (Welcome Message)   \n",
       "3      Low  Any other issue - Smart Meter    Any other issue - Smart Meter   \n",
       "4      Low           Internal ID Creation             Internal ID Creation   \n",
       "\n",
       "  Source  Status            Due Date        Resolve Date  \n",
       "0  Phone  Closed 2021-02-16 09:49:14 2021-06-02 14:10:57  \n",
       "1  Phone  Closed 2021-03-09 12:38:36 2021-06-02 14:11:07  \n",
       "2  Other  Closed 2021-04-13 15:27:33 2021-06-02 14:12:00  \n",
       "3  Other  Closed 2021-04-29 14:18:39 2021-06-02 14:08:18  \n",
       "4  Email  Closed 2021-04-29 15:16:15 2021-06-02 14:11:54  "
      ]
     },
     "execution_count": 12,
     "metadata": {},
     "output_type": "execute_result"
    }
   ],
   "source": [
    "ticket_df.head()"
   ]
  },
  {
   "cell_type": "code",
   "execution_count": 8,
   "metadata": {},
   "outputs": [],
   "source": [
    "#ticket_df[(ticket_df['Issue Type']=='Notification Related')]"
   ]
  },
  {
   "cell_type": "code",
   "execution_count": 19,
   "metadata": {},
   "outputs": [
    {
     "data": {
      "text/plain": [
       "[2021, 2022, 2023]"
      ]
     },
     "execution_count": 19,
     "metadata": {},
     "output_type": "execute_result"
    }
   ],
   "source": [
    "ticket_df['Date / Time'].dt.year.unique().tolist()"
   ]
  },
  {
   "cell_type": "code",
   "execution_count": null,
   "metadata": {},
   "outputs": [],
   "source": []
  },
  {
   "cell_type": "code",
   "execution_count": 21,
   "metadata": {},
   "outputs": [
    {
     "data": {
      "text/plain": [
       "['vijay bharoliya',\n",
       " 'Sudhakar Yadav',\n",
       " 'Pushpendra Singh',\n",
       " 'Rattnam Choubey',\n",
       " 'Gayatri kulkarni',\n",
       " 'Girdhar Tripathi',\n",
       " 'Amit Sonkar',\n",
       " 'Admin User',\n",
       " 'Satyam kumar',\n",
       " nan,\n",
       " 'Ajay chalke',\n",
       " 'Durga Sri',\n",
       " 'Rohit Dayal']"
      ]
     },
     "execution_count": 21,
     "metadata": {},
     "output_type": "execute_result"
    }
   ],
   "source": [
    "ticket_df['Assignee'].unique().tolist()"
   ]
  },
  {
   "cell_type": "code",
   "execution_count": null,
   "metadata": {},
   "outputs": [],
   "source": [
    "select_Startup = st.sidebar.selectbox('select startup',sorted(df['Issue Type'].unique().tolist()))\n",
    "    btn1=st.sidebar.button('find startup detail')"
   ]
  },
  {
   "cell_type": "code",
   "execution_count": null,
   "metadata": {},
   "outputs": [],
   "source": []
  },
  {
   "cell_type": "markdown",
   "metadata": {},
   "source": [
    "# priority ticket"
   ]
  },
  {
   "cell_type": "code",
   "execution_count": null,
   "metadata": {},
   "outputs": [],
   "source": [
    "\n",
    "\n",
    "# total no. of ticket as per priority"
   ]
  },
  {
   "cell_type": "code",
   "execution_count": 22,
   "metadata": {},
   "outputs": [
    {
     "data": {
      "text/html": [
       "<div>\n",
       "<style scoped>\n",
       "    .dataframe tbody tr th:only-of-type {\n",
       "        vertical-align: middle;\n",
       "    }\n",
       "\n",
       "    .dataframe tbody tr th {\n",
       "        vertical-align: top;\n",
       "    }\n",
       "\n",
       "    .dataframe thead th {\n",
       "        text-align: right;\n",
       "    }\n",
       "</style>\n",
       "<table border=\"1\" class=\"dataframe\">\n",
       "  <thead>\n",
       "    <tr style=\"text-align: right;\">\n",
       "      <th></th>\n",
       "      <th>Consumer ID</th>\n",
       "      <th>Ticket No</th>\n",
       "      <th>Date / Time</th>\n",
       "      <th>Department</th>\n",
       "      <th>Assignee</th>\n",
       "      <th>Priority</th>\n",
       "      <th>Issue Type</th>\n",
       "      <th>Issue Sub Type</th>\n",
       "      <th>Source</th>\n",
       "      <th>Status</th>\n",
       "      <th>Due Date</th>\n",
       "      <th>Resolve Date</th>\n",
       "    </tr>\n",
       "  </thead>\n",
       "  <tbody>\n",
       "    <tr>\n",
       "      <th>0</th>\n",
       "      <td>400542027</td>\n",
       "      <td>166329</td>\n",
       "      <td>2021-02-13 09:49:14</td>\n",
       "      <td>MDMS</td>\n",
       "      <td>vijay bharoliya</td>\n",
       "      <td>Medium</td>\n",
       "      <td>Excess/less Consumption</td>\n",
       "      <td>Charge Calculation/Consumption</td>\n",
       "      <td>Phone</td>\n",
       "      <td>Closed</td>\n",
       "      <td>2021-02-16 09:49:14</td>\n",
       "      <td>2021-06-02 14:10:57</td>\n",
       "    </tr>\n",
       "    <tr>\n",
       "      <th>1</th>\n",
       "      <td>400534366</td>\n",
       "      <td>939634</td>\n",
       "      <td>2021-03-06 12:38:36</td>\n",
       "      <td>MDMS</td>\n",
       "      <td>vijay bharoliya</td>\n",
       "      <td>Medium</td>\n",
       "      <td>Excess/less Charge Deduction</td>\n",
       "      <td>Arrear Balance</td>\n",
       "      <td>Phone</td>\n",
       "      <td>Closed</td>\n",
       "      <td>2021-03-09 12:38:36</td>\n",
       "      <td>2021-06-02 14:11:07</td>\n",
       "    </tr>\n",
       "  </tbody>\n",
       "</table>\n",
       "</div>"
      ],
      "text/plain": [
       "   Consumer ID  Ticket No         Date / Time Department         Assignee  \\\n",
       "0    400542027     166329 2021-02-13 09:49:14       MDMS  vijay bharoliya   \n",
       "1    400534366     939634 2021-03-06 12:38:36       MDMS  vijay bharoliya   \n",
       "\n",
       "  Priority                    Issue Type                  Issue Sub Type  \\\n",
       "0   Medium       Excess/less Consumption  Charge Calculation/Consumption   \n",
       "1   Medium  Excess/less Charge Deduction                  Arrear Balance   \n",
       "\n",
       "  Source  Status            Due Date        Resolve Date  \n",
       "0  Phone  Closed 2021-02-16 09:49:14 2021-06-02 14:10:57  \n",
       "1  Phone  Closed 2021-03-09 12:38:36 2021-06-02 14:11:07  "
      ]
     },
     "execution_count": 22,
     "metadata": {},
     "output_type": "execute_result"
    }
   ],
   "source": [
    "ticket_df.head(2)"
   ]
  },
  {
   "cell_type": "code",
   "execution_count": 30,
   "metadata": {},
   "outputs": [
    {
     "data": {
      "text/plain": [
       "141"
      ]
     },
     "execution_count": 30,
     "metadata": {},
     "output_type": "execute_result"
    }
   ],
   "source": [
    "\n",
    "total_count=ticket_df[(ticket_df['Priority']=='Medium')].count().head(1).values[0]\n",
    "total_count\n",
    "#Division_wise_Meter_Replacement_and_New_Connection[(Division_wise_Meter_Replacement_and_New_Connection['STATUS']=='SUCCESS')]"
   ]
  },
  {
   "cell_type": "code",
   "execution_count": 31,
   "metadata": {},
   "outputs": [
    {
     "data": {
      "text/plain": [
       "0"
      ]
     },
     "execution_count": 31,
     "metadata": {},
     "output_type": "execute_result"
    }
   ],
   "source": [
    "ticket_df[(ticket_df['Priority']=='select_ticket_priority')]['Ticket No'].count()"
   ]
  },
  {
   "cell_type": "code",
   "execution_count": 35,
   "metadata": {},
   "outputs": [
    {
     "data": {
      "text/plain": [
       "141"
      ]
     },
     "execution_count": 35,
     "metadata": {},
     "output_type": "execute_result"
    }
   ],
   "source": [
    "ticket_df[(ticket_df['Priority']=='Medium')].count().values[0]"
   ]
  },
  {
   "cell_type": "code",
   "execution_count": 34,
   "metadata": {},
   "outputs": [
    {
     "data": {
      "text/plain": [
       "0"
      ]
     },
     "execution_count": 34,
     "metadata": {},
     "output_type": "execute_result"
    }
   ],
   "source": [
    "ticket_df[(ticket_df['Priority']=='select_ticket_priority')].count().values[0]"
   ]
  },
  {
   "cell_type": "code",
   "execution_count": 42,
   "metadata": {},
   "outputs": [],
   "source": [
    "#ticket_df[(ticket_df['Issue Type']=='Excess/less Consumption') & (ticket_df['Priority']=='Medium')]"
   ]
  },
  {
   "cell_type": "code",
   "execution_count": null,
   "metadata": {},
   "outputs": [],
   "source": []
  },
  {
   "cell_type": "code",
   "execution_count": 52,
   "metadata": {},
   "outputs": [
    {
     "data": {
      "text/plain": [
       "174"
      ]
     },
     "execution_count": 52,
     "metadata": {},
     "output_type": "execute_result"
    }
   ],
   "source": [
    "ticket_df[ticket_df['Priority']=='Low'].count().values[0]"
   ]
  },
  {
   "cell_type": "code",
   "execution_count": 48,
   "metadata": {},
   "outputs": [
    {
     "data": {
      "text/html": [
       "<div>\n",
       "<style scoped>\n",
       "    .dataframe tbody tr th:only-of-type {\n",
       "        vertical-align: middle;\n",
       "    }\n",
       "\n",
       "    .dataframe tbody tr th {\n",
       "        vertical-align: top;\n",
       "    }\n",
       "\n",
       "    .dataframe thead th {\n",
       "        text-align: right;\n",
       "    }\n",
       "</style>\n",
       "<table border=\"1\" class=\"dataframe\">\n",
       "  <thead>\n",
       "    <tr style=\"text-align: right;\">\n",
       "      <th></th>\n",
       "      <th>Consumer ID</th>\n",
       "      <th>Ticket No</th>\n",
       "      <th>Date / Time</th>\n",
       "      <th>Department</th>\n",
       "      <th>Assignee</th>\n",
       "      <th>Priority</th>\n",
       "      <th>Issue Type</th>\n",
       "      <th>Issue Sub Type</th>\n",
       "      <th>Source</th>\n",
       "      <th>Status</th>\n",
       "      <th>Due Date</th>\n",
       "      <th>Resolve Date</th>\n",
       "      <th>year</th>\n",
       "    </tr>\n",
       "  </thead>\n",
       "  <tbody>\n",
       "    <tr>\n",
       "      <th>0</th>\n",
       "      <td>400542027</td>\n",
       "      <td>166329</td>\n",
       "      <td>2021-02-13 09:49:14</td>\n",
       "      <td>MDMS</td>\n",
       "      <td>vijay bharoliya</td>\n",
       "      <td>Medium</td>\n",
       "      <td>Excess/less Consumption</td>\n",
       "      <td>Charge Calculation/Consumption</td>\n",
       "      <td>Phone</td>\n",
       "      <td>Closed</td>\n",
       "      <td>2021-02-16 09:49:14</td>\n",
       "      <td>2021-06-02 14:10:57</td>\n",
       "      <td>2021</td>\n",
       "    </tr>\n",
       "    <tr>\n",
       "      <th>1</th>\n",
       "      <td>400534366</td>\n",
       "      <td>939634</td>\n",
       "      <td>2021-03-06 12:38:36</td>\n",
       "      <td>MDMS</td>\n",
       "      <td>vijay bharoliya</td>\n",
       "      <td>Medium</td>\n",
       "      <td>Excess/less Charge Deduction</td>\n",
       "      <td>Arrear Balance</td>\n",
       "      <td>Phone</td>\n",
       "      <td>Closed</td>\n",
       "      <td>2021-03-09 12:38:36</td>\n",
       "      <td>2021-06-02 14:11:07</td>\n",
       "      <td>2021</td>\n",
       "    </tr>\n",
       "    <tr>\n",
       "      <th>2</th>\n",
       "      <td>1000000101</td>\n",
       "      <td>515799</td>\n",
       "      <td>2021-04-12 15:27:33</td>\n",
       "      <td>MDMS</td>\n",
       "      <td>vijay bharoliya</td>\n",
       "      <td>High</td>\n",
       "      <td>Notification Related</td>\n",
       "      <td>Notifications (Welcome Message)</td>\n",
       "      <td>Other</td>\n",
       "      <td>Closed</td>\n",
       "      <td>2021-04-13 15:27:33</td>\n",
       "      <td>2021-06-02 14:12:00</td>\n",
       "      <td>2021</td>\n",
       "    </tr>\n",
       "    <tr>\n",
       "      <th>3</th>\n",
       "      <td>1000000107</td>\n",
       "      <td>387235</td>\n",
       "      <td>2021-04-19 14:18:39</td>\n",
       "      <td>MDMS</td>\n",
       "      <td>vijay bharoliya</td>\n",
       "      <td>Low</td>\n",
       "      <td>Any other issue - Smart Meter</td>\n",
       "      <td>Any other issue - Smart Meter</td>\n",
       "      <td>Other</td>\n",
       "      <td>Closed</td>\n",
       "      <td>2021-04-29 14:18:39</td>\n",
       "      <td>2021-06-02 14:08:18</td>\n",
       "      <td>2021</td>\n",
       "    </tr>\n",
       "    <tr>\n",
       "      <th>4</th>\n",
       "      <td>1000000101</td>\n",
       "      <td>541307</td>\n",
       "      <td>2021-04-19 15:16:15</td>\n",
       "      <td>MDMS</td>\n",
       "      <td>vijay bharoliya</td>\n",
       "      <td>Low</td>\n",
       "      <td>Internal ID Creation</td>\n",
       "      <td>Internal ID Creation</td>\n",
       "      <td>Email</td>\n",
       "      <td>Closed</td>\n",
       "      <td>2021-04-29 15:16:15</td>\n",
       "      <td>2021-06-02 14:11:54</td>\n",
       "      <td>2021</td>\n",
       "    </tr>\n",
       "  </tbody>\n",
       "</table>\n",
       "</div>"
      ],
      "text/plain": [
       "   Consumer ID  Ticket No         Date / Time Department         Assignee  \\\n",
       "0    400542027     166329 2021-02-13 09:49:14       MDMS  vijay bharoliya   \n",
       "1    400534366     939634 2021-03-06 12:38:36       MDMS  vijay bharoliya   \n",
       "2   1000000101     515799 2021-04-12 15:27:33       MDMS  vijay bharoliya   \n",
       "3   1000000107     387235 2021-04-19 14:18:39       MDMS  vijay bharoliya   \n",
       "4   1000000101     541307 2021-04-19 15:16:15       MDMS  vijay bharoliya   \n",
       "\n",
       "  Priority                     Issue Type                   Issue Sub Type  \\\n",
       "0   Medium        Excess/less Consumption   Charge Calculation/Consumption   \n",
       "1   Medium   Excess/less Charge Deduction                   Arrear Balance   \n",
       "2     High           Notification Related  Notifications (Welcome Message)   \n",
       "3      Low  Any other issue - Smart Meter    Any other issue - Smart Meter   \n",
       "4      Low           Internal ID Creation             Internal ID Creation   \n",
       "\n",
       "  Source  Status            Due Date        Resolve Date  year  \n",
       "0  Phone  Closed 2021-02-16 09:49:14 2021-06-02 14:10:57  2021  \n",
       "1  Phone  Closed 2021-03-09 12:38:36 2021-06-02 14:11:07  2021  \n",
       "2  Other  Closed 2021-04-13 15:27:33 2021-06-02 14:12:00  2021  \n",
       "3  Other  Closed 2021-04-29 14:18:39 2021-06-02 14:08:18  2021  \n",
       "4  Email  Closed 2021-04-29 15:16:15 2021-06-02 14:11:54  2021  "
      ]
     },
     "execution_count": 48,
     "metadata": {},
     "output_type": "execute_result"
    }
   ],
   "source": [
    "ticket_df.head()"
   ]
  },
  {
   "cell_type": "code",
   "execution_count": 81,
   "metadata": {},
   "outputs": [],
   "source": [
    "ticket_df['year']=ticket_df['Date / Time'].dt.year"
   ]
  },
  {
   "cell_type": "code",
   "execution_count": 78,
   "metadata": {},
   "outputs": [],
   "source": [
    "#ticket_df['year'] = pd.to_datetime(ticket_df['year'])"
   ]
  },
  {
   "cell_type": "code",
   "execution_count": 82,
   "metadata": {},
   "outputs": [
    {
     "data": {
      "text/html": [
       "<div>\n",
       "<style scoped>\n",
       "    .dataframe tbody tr th:only-of-type {\n",
       "        vertical-align: middle;\n",
       "    }\n",
       "\n",
       "    .dataframe tbody tr th {\n",
       "        vertical-align: top;\n",
       "    }\n",
       "\n",
       "    .dataframe thead th {\n",
       "        text-align: right;\n",
       "    }\n",
       "</style>\n",
       "<table border=\"1\" class=\"dataframe\">\n",
       "  <thead>\n",
       "    <tr style=\"text-align: right;\">\n",
       "      <th></th>\n",
       "      <th>Consumer ID</th>\n",
       "      <th>Ticket No</th>\n",
       "      <th>Date / Time</th>\n",
       "      <th>Department</th>\n",
       "      <th>Assignee</th>\n",
       "      <th>Priority</th>\n",
       "      <th>Issue Type</th>\n",
       "      <th>Issue Sub Type</th>\n",
       "      <th>Source</th>\n",
       "      <th>Status</th>\n",
       "      <th>Due Date</th>\n",
       "      <th>Resolve Date</th>\n",
       "      <th>year</th>\n",
       "    </tr>\n",
       "  </thead>\n",
       "  <tbody>\n",
       "    <tr>\n",
       "      <th>0</th>\n",
       "      <td>400542027</td>\n",
       "      <td>166329</td>\n",
       "      <td>2021-02-13 09:49:14</td>\n",
       "      <td>MDMS</td>\n",
       "      <td>vijay bharoliya</td>\n",
       "      <td>Medium</td>\n",
       "      <td>Excess/less Consumption</td>\n",
       "      <td>Charge Calculation/Consumption</td>\n",
       "      <td>Phone</td>\n",
       "      <td>Resolved</td>\n",
       "      <td>2021-02-16 09:49:14</td>\n",
       "      <td>2021-06-02 14:10:57</td>\n",
       "      <td>2021</td>\n",
       "    </tr>\n",
       "    <tr>\n",
       "      <th>1</th>\n",
       "      <td>400534366</td>\n",
       "      <td>939634</td>\n",
       "      <td>2021-03-06 12:38:36</td>\n",
       "      <td>MDMS</td>\n",
       "      <td>vijay bharoliya</td>\n",
       "      <td>Medium</td>\n",
       "      <td>Excess/less Charge Deduction</td>\n",
       "      <td>Arrear Balance</td>\n",
       "      <td>Phone</td>\n",
       "      <td>Resolved</td>\n",
       "      <td>2021-03-09 12:38:36</td>\n",
       "      <td>2021-06-02 14:11:07</td>\n",
       "      <td>2021</td>\n",
       "    </tr>\n",
       "    <tr>\n",
       "      <th>2</th>\n",
       "      <td>1000000101</td>\n",
       "      <td>515799</td>\n",
       "      <td>2021-04-12 15:27:33</td>\n",
       "      <td>MDMS</td>\n",
       "      <td>vijay bharoliya</td>\n",
       "      <td>High</td>\n",
       "      <td>Notification Related</td>\n",
       "      <td>Notifications (Welcome Message)</td>\n",
       "      <td>Other</td>\n",
       "      <td>Resolved</td>\n",
       "      <td>2021-04-13 15:27:33</td>\n",
       "      <td>2021-06-02 14:12:00</td>\n",
       "      <td>2021</td>\n",
       "    </tr>\n",
       "  </tbody>\n",
       "</table>\n",
       "</div>"
      ],
      "text/plain": [
       "   Consumer ID  Ticket No         Date / Time Department         Assignee  \\\n",
       "0    400542027     166329 2021-02-13 09:49:14       MDMS  vijay bharoliya   \n",
       "1    400534366     939634 2021-03-06 12:38:36       MDMS  vijay bharoliya   \n",
       "2   1000000101     515799 2021-04-12 15:27:33       MDMS  vijay bharoliya   \n",
       "\n",
       "  Priority                    Issue Type                   Issue Sub Type  \\\n",
       "0   Medium       Excess/less Consumption   Charge Calculation/Consumption   \n",
       "1   Medium  Excess/less Charge Deduction                   Arrear Balance   \n",
       "2     High          Notification Related  Notifications (Welcome Message)   \n",
       "\n",
       "  Source    Status            Due Date        Resolve Date  year  \n",
       "0  Phone  Resolved 2021-02-16 09:49:14 2021-06-02 14:10:57  2021  \n",
       "1  Phone  Resolved 2021-03-09 12:38:36 2021-06-02 14:11:07  2021  \n",
       "2  Other  Resolved 2021-04-13 15:27:33 2021-06-02 14:12:00  2021  "
      ]
     },
     "execution_count": 82,
     "metadata": {},
     "output_type": "execute_result"
    }
   ],
   "source": [
    "ticket_df.head(3)"
   ]
  },
  {
   "cell_type": "code",
   "execution_count": 49,
   "metadata": {},
   "outputs": [
    {
     "data": {
      "text/plain": [
       "['Medium', 'High', 'Low', 'Urgent']"
      ]
     },
     "execution_count": 49,
     "metadata": {},
     "output_type": "execute_result"
    }
   ],
   "source": [
    "ticket_df['Priority'].unique().tolist()"
   ]
  },
  {
   "cell_type": "code",
   "execution_count": 55,
   "metadata": {},
   "outputs": [
    {
     "data": {
      "text/plain": [
       "Issue Type\n",
       "MDMS Related                     176\n",
       "Any other issue - Smart Meter     99\n",
       "Internal ID Creation              44\n",
       "Smart Meter (Query)               43\n",
       "Excess/less Consumption           42\n",
       "Excess/less Charge Deduction      24\n",
       "Notification Related              12\n",
       "New Development Related           11\n",
       "Non-smart meter related           10\n",
       "Recharge Related                   6\n",
       "Infrastructure                     5\n",
       "App related issue (SCM)            3\n",
       "Disconnection Related              3\n",
       "HES ( Head end System)             2\n",
       "WFM (Work force management)        2\n",
       "Balance / Recharge                 1\n",
       "Name: Ticket No, dtype: int64"
      ]
     },
     "execution_count": 55,
     "metadata": {},
     "output_type": "execute_result"
    }
   ],
   "source": [
    "ticket_df.groupby('Issue Type')['Ticket No'].count().sort_values(ascending=False)"
   ]
  },
  {
   "cell_type": "code",
   "execution_count": 63,
   "metadata": {},
   "outputs": [
    {
     "data": {
      "text/html": [
       "<div>\n",
       "<style scoped>\n",
       "    .dataframe tbody tr th:only-of-type {\n",
       "        vertical-align: middle;\n",
       "    }\n",
       "\n",
       "    .dataframe tbody tr th {\n",
       "        vertical-align: top;\n",
       "    }\n",
       "\n",
       "    .dataframe thead th {\n",
       "        text-align: right;\n",
       "    }\n",
       "</style>\n",
       "<table border=\"1\" class=\"dataframe\">\n",
       "  <thead>\n",
       "    <tr style=\"text-align: right;\">\n",
       "      <th>Priority</th>\n",
       "      <th>High</th>\n",
       "      <th>Low</th>\n",
       "      <th>Medium</th>\n",
       "      <th>Urgent</th>\n",
       "    </tr>\n",
       "    <tr>\n",
       "      <th>year</th>\n",
       "      <th></th>\n",
       "      <th></th>\n",
       "      <th></th>\n",
       "      <th></th>\n",
       "    </tr>\n",
       "  </thead>\n",
       "  <tbody>\n",
       "    <tr>\n",
       "      <th>2021</th>\n",
       "      <td>36</td>\n",
       "      <td>6</td>\n",
       "      <td>33</td>\n",
       "      <td>4</td>\n",
       "    </tr>\n",
       "    <tr>\n",
       "      <th>2022</th>\n",
       "      <td>64</td>\n",
       "      <td>31</td>\n",
       "      <td>14</td>\n",
       "      <td>34</td>\n",
       "    </tr>\n",
       "    <tr>\n",
       "      <th>2023</th>\n",
       "      <td>15</td>\n",
       "      <td>137</td>\n",
       "      <td>94</td>\n",
       "      <td>15</td>\n",
       "    </tr>\n",
       "  </tbody>\n",
       "</table>\n",
       "</div>"
      ],
      "text/plain": [
       "Priority  High  Low  Medium  Urgent\n",
       "year                               \n",
       "2021        36    6      33       4\n",
       "2022        64   31      14      34\n",
       "2023        15  137      94      15"
      ]
     },
     "execution_count": 63,
     "metadata": {},
     "output_type": "execute_result"
    }
   ],
   "source": [
    "ticket_df.groupby(['year','Priority'])['Ticket No'].count().unstack()"
   ]
  },
  {
   "cell_type": "code",
   "execution_count": null,
   "metadata": {},
   "outputs": [],
   "source": [
    "df.groupby(['Year', 'Category']).sum().unstack()"
   ]
  },
  {
   "cell_type": "code",
   "execution_count": 66,
   "metadata": {},
   "outputs": [],
   "source": [
    "ticket_df['Status']=ticket_df['Status'].replace(['Closed'], 'Resolved')"
   ]
  },
  {
   "cell_type": "code",
   "execution_count": 67,
   "metadata": {},
   "outputs": [
    {
     "data": {
      "text/plain": [
       "Status\n",
       "In Process     17\n",
       "Open           31\n",
       "Resolved      126\n",
       "Name: Ticket No, dtype: int64"
      ]
     },
     "execution_count": 67,
     "metadata": {},
     "output_type": "execute_result"
    }
   ],
   "source": [
    "#\n",
    "\n",
    "ticket_df[ticket_df['Priority']=='Low'].groupby('Status')['Ticket No'].count()"
   ]
  },
  {
   "cell_type": "code",
   "execution_count": 68,
   "metadata": {},
   "outputs": [
    {
     "data": {
      "text/plain": [
       "array(['Medium', 'High', 'Low', 'Urgent'], dtype=object)"
      ]
     },
     "execution_count": 68,
     "metadata": {},
     "output_type": "execute_result"
    }
   ],
   "source": [
    "ticket_df['Priority'].unique()"
   ]
  },
  {
   "cell_type": "code",
   "execution_count": null,
   "metadata": {},
   "outputs": [],
   "source": [
    "ticket_df.groupby('Issue Type')['Ticket No'].count().sort_values(ascending=False)"
   ]
  },
  {
   "cell_type": "code",
   "execution_count": 71,
   "metadata": {},
   "outputs": [
    {
     "data": {
      "text/plain": [
       "year\n",
       "2021     5\n",
       "2022     6\n",
       "2023    13\n",
       "Name: Ticket No, dtype: int64"
      ]
     },
     "execution_count": 71,
     "metadata": {},
     "output_type": "execute_result"
    }
   ],
   "source": [
    "issue_type_year_wise=ticket_df[ticket_df['Issue Type']=='Excess/less Charge Deduction'].groupby('year')['Ticket No'].count()"
   ]
  },
  {
   "cell_type": "code",
   "execution_count": 73,
   "metadata": {},
   "outputs": [
    {
     "data": {
      "text/plain": [
       "Status\n",
       "In Process     1\n",
       "Open           2\n",
       "Resolved      21\n",
       "Name: Ticket No, dtype: int64"
      ]
     },
     "execution_count": 73,
     "metadata": {},
     "output_type": "execute_result"
    }
   ],
   "source": [
    "issue_type_status_wise=ticket_df[ticket_df['Issue Type']=='Excess/less Charge Deduction'].groupby('Status')['Ticket No'].count()"
   ]
  },
  {
   "cell_type": "code",
   "execution_count": 77,
   "metadata": {},
   "outputs": [
    {
     "data": {
      "text/html": [
       "<div>\n",
       "<style scoped>\n",
       "    .dataframe tbody tr th:only-of-type {\n",
       "        vertical-align: middle;\n",
       "    }\n",
       "\n",
       "    .dataframe tbody tr th {\n",
       "        vertical-align: top;\n",
       "    }\n",
       "\n",
       "    .dataframe thead th {\n",
       "        text-align: right;\n",
       "    }\n",
       "</style>\n",
       "<table border=\"1\" class=\"dataframe\">\n",
       "  <thead>\n",
       "    <tr style=\"text-align: right;\">\n",
       "      <th></th>\n",
       "      <th>Consumer ID</th>\n",
       "      <th>Ticket No</th>\n",
       "      <th>Date / Time</th>\n",
       "      <th>Department</th>\n",
       "      <th>Assignee</th>\n",
       "      <th>Priority</th>\n",
       "      <th>Issue Type</th>\n",
       "      <th>Issue Sub Type</th>\n",
       "      <th>Source</th>\n",
       "      <th>Status</th>\n",
       "      <th>Due Date</th>\n",
       "      <th>Resolve Date</th>\n",
       "      <th>year</th>\n",
       "    </tr>\n",
       "  </thead>\n",
       "  <tbody>\n",
       "    <tr>\n",
       "      <th>456</th>\n",
       "      <td>1000000107</td>\n",
       "      <td>413729</td>\n",
       "      <td>2023-09-12 13:10:21</td>\n",
       "      <td>MDMS</td>\n",
       "      <td>NaN</td>\n",
       "      <td>Medium</td>\n",
       "      <td>Excess/less Charge Deduction</td>\n",
       "      <td>Excess/less charge Deduction rel</td>\n",
       "      <td>Other</td>\n",
       "      <td>Open</td>\n",
       "      <td>2023-09-15 13:10:21</td>\n",
       "      <td>NaT</td>\n",
       "      <td>2023</td>\n",
       "    </tr>\n",
       "    <tr>\n",
       "      <th>476</th>\n",
       "      <td>1000000101</td>\n",
       "      <td>709052</td>\n",
       "      <td>2023-09-26 13:04:32</td>\n",
       "      <td>MDMS</td>\n",
       "      <td>Rattnam Choubey</td>\n",
       "      <td>Medium</td>\n",
       "      <td>Excess/less Charge Deduction</td>\n",
       "      <td>Excess/less charge Deduction rel</td>\n",
       "      <td>Email</td>\n",
       "      <td>Open</td>\n",
       "      <td>2023-09-29 13:04:32</td>\n",
       "      <td>NaT</td>\n",
       "      <td>2023</td>\n",
       "    </tr>\n",
       "    <tr>\n",
       "      <th>478</th>\n",
       "      <td>1000000101</td>\n",
       "      <td>281086</td>\n",
       "      <td>2023-09-29 17:46:55</td>\n",
       "      <td>MDMS</td>\n",
       "      <td>Gayatri kulkarni</td>\n",
       "      <td>Medium</td>\n",
       "      <td>Excess/less Charge Deduction</td>\n",
       "      <td>Excess/less charge Deduction rel</td>\n",
       "      <td>Phone</td>\n",
       "      <td>In Process</td>\n",
       "      <td>2023-10-02 17:46:55</td>\n",
       "      <td>NaT</td>\n",
       "      <td>2023</td>\n",
       "    </tr>\n",
       "  </tbody>\n",
       "</table>\n",
       "</div>"
      ],
      "text/plain": [
       "     Consumer ID  Ticket No         Date / Time Department          Assignee  \\\n",
       "456   1000000107     413729 2023-09-12 13:10:21       MDMS               NaN   \n",
       "476   1000000101     709052 2023-09-26 13:04:32       MDMS   Rattnam Choubey   \n",
       "478   1000000101     281086 2023-09-29 17:46:55       MDMS  Gayatri kulkarni   \n",
       "\n",
       "    Priority                    Issue Type                    Issue Sub Type  \\\n",
       "456   Medium  Excess/less Charge Deduction  Excess/less charge Deduction rel   \n",
       "476   Medium  Excess/less Charge Deduction  Excess/less charge Deduction rel   \n",
       "478   Medium  Excess/less Charge Deduction  Excess/less charge Deduction rel   \n",
       "\n",
       "    Source      Status            Due Date Resolve Date  year  \n",
       "456  Other        Open 2023-09-15 13:10:21          NaT  2023  \n",
       "476  Email        Open 2023-09-29 13:04:32          NaT  2023  \n",
       "478  Phone  In Process 2023-10-02 17:46:55          NaT  2023  "
      ]
     },
     "execution_count": 77,
     "metadata": {},
     "output_type": "execute_result"
    }
   ],
   "source": [
    "ticket_df[(ticket_df['Issue Type']=='Excess/less Charge Deduction')  & ((ticket_df['Status']=='Open') | (ticket_df['Status']=='In Process')) ]"
   ]
  },
  {
   "cell_type": "code",
   "execution_count": null,
   "metadata": {},
   "outputs": [],
   "source": []
  },
  {
   "cell_type": "code",
   "execution_count": 83,
   "metadata": {},
   "outputs": [
    {
     "data": {
      "text/plain": [
       "year\n",
       "2021     79\n",
       "2022    143\n",
       "2023    261\n",
       "Name: Ticket No, dtype: int64"
      ]
     },
     "execution_count": 83,
     "metadata": {},
     "output_type": "execute_result"
    }
   ],
   "source": [
    "ticket_df.groupby('year')['Ticket No'].count()"
   ]
  },
  {
   "cell_type": "code",
   "execution_count": null,
   "metadata": {},
   "outputs": [],
   "source": []
  },
  {
   "cell_type": "code",
   "execution_count": null,
   "metadata": {},
   "outputs": [],
   "source": []
  },
  {
   "cell_type": "code",
   "execution_count": null,
   "metadata": {},
   "outputs": [],
   "source": []
  },
  {
   "cell_type": "code",
   "execution_count": null,
   "metadata": {},
   "outputs": [],
   "source": []
  },
  {
   "cell_type": "code",
   "execution_count": null,
   "metadata": {},
   "outputs": [],
   "source": []
  },
  {
   "cell_type": "code",
   "execution_count": null,
   "metadata": {},
   "outputs": [],
   "source": []
  },
  {
   "cell_type": "code",
   "execution_count": null,
   "metadata": {},
   "outputs": [],
   "source": []
  }
 ],
 "metadata": {
  "kernelspec": {
   "display_name": "Python 3",
   "language": "python",
   "name": "python3"
  },
  "language_info": {
   "codemirror_mode": {
    "name": "ipython",
    "version": 3
   },
   "file_extension": ".py",
   "mimetype": "text/x-python",
   "name": "python",
   "nbconvert_exporter": "python",
   "pygments_lexer": "ipython3",
   "version": "3.8.0"
  },
  "orig_nbformat": 4
 },
 "nbformat": 4,
 "nbformat_minor": 2
}
